{
  "nbformat": 4,
  "nbformat_minor": 0,
  "metadata": {
    "colab": {
      "name": "assignment_summerolympics.ipynb",
      "provenance": [],
      "collapsed_sections": []
    },
    "kernelspec": {
      "display_name": "Python 3",
      "name": "python3"
    },
    "language_info": {
      "name": "python"
    }
  },
  "cells": [
    {
      "cell_type": "markdown",
      "metadata": {
        "id": "hPQFAcOygmzm"
      },
      "source": [
        "\n",
        "Summer Olympics Data Analysis Assignment"
      ]
    },
    {
      "cell_type": "code",
      "metadata": {
        "id": "z7Byx1AicOAj"
      },
      "source": [
        "import numpy as np\n",
        "import pandas as pd\n",
        "import matplotlib.pyplot as plt\n",
        "import csv\n",
        "summer=pd.read_csv('summer.csv')\n"
      ],
      "execution_count": null,
      "outputs": []
    },
    {
      "cell_type": "markdown",
      "metadata": {
        "id": "22efSyKzkFbF"
      },
      "source": [
        "1. In how many cities Summer Olympics is held so far?"
      ]
    },
    {
      "cell_type": "code",
      "metadata": {
        "colab": {
          "base_uri": "https://localhost:8080/"
        },
        "id": "x1moqsr8kKDJ",
        "outputId": "a5e55387-f61d-4adb-ec82-383ac6f4be27"
      },
      "source": [
        "summer['City']"
      ],
      "execution_count": null,
      "outputs": [
        {
          "output_type": "execute_result",
          "data": {
            "text/plain": [
              "0                    Athens\n",
              "1                     Paris\n",
              "2                  St Louis\n",
              "3                    London\n",
              "4                 Stockholm\n",
              "5                   Antwerp\n",
              "6                 Amsterdam\n",
              "7               Los Angeles\n",
              "8                    Berlin\n",
              "9                  Helsinki\n",
              "10    Melbourne / Stockholm\n",
              "11                     Rome\n",
              "12                    Tokyo\n",
              "13                   Mexico\n",
              "14                   Munich\n",
              "15                 Montreal\n",
              "16                   Moscow\n",
              "17                    Seoul\n",
              "18                Barcelona\n",
              "19                  Atlanta\n",
              "20                   Sydney\n",
              "21                  Beijing\n",
              "Name: City, dtype: object"
            ]
          },
          "metadata": {},
          "execution_count": 38
        }
      ]
    },
    {
      "cell_type": "code",
      "metadata": {
        "id": "dkEiV2LzsjGg"
      },
      "source": [
        "summer.dropna(inplace=True)\n",
        "#summer.Year = summer.Year.astype(int)"
      ],
      "execution_count": null,
      "outputs": []
    },
    {
      "cell_type": "code",
      "metadata": {
        "id": "7EBd0mBosqht"
      },
      "source": [
        "summer=summer[['City']].drop_duplicates().reset_index(drop=True)"
      ],
      "execution_count": null,
      "outputs": []
    },
    {
      "cell_type": "code",
      "metadata": {
        "colab": {
          "base_uri": "https://localhost:8080/"
        },
        "id": "afrRFoTMviAp",
        "outputId": "bd2900ee-c46b-4a20-bb8b-be51eca210a9"
      },
      "source": [
        "df=summer.index\n",
        "df=df.to_numpy()\n",
        "(np.count_nonzero(df))+1"
      ],
      "execution_count": null,
      "outputs": [
        {
          "data": {
            "text/plain": [
              "22"
            ]
          },
          "execution_count": 37,
          "metadata": {},
          "output_type": "execute_result"
        }
      ]
    },
    {
      "cell_type": "markdown",
      "metadata": {
        "id": "8T9vho4pkKgK"
      },
      "source": [
        "2. Which sport is having most number of Gold Medals so far? (Top 5)"
      ]
    },
    {
      "cell_type": "code",
      "metadata": {
        "id": "XTKoWtgZkQHM"
      },
      "source": [
        "gold_sports=summer[summer.Medal=='Gold'].groupby(['Event']).Medal.size()\n",
        "gold_top5=gold_sports.sort_values(ascending=False)[:5]"
      ],
      "execution_count": null,
      "outputs": []
    },
    {
      "cell_type": "code",
      "metadata": {
        "colab": {
          "base_uri": "https://localhost:8080/"
        },
        "id": "vix1KsYDyUQ5",
        "outputId": "2fb8abb3-d58a-453c-d68d-89771775fc73"
      },
      "source": [
        "gold_top5"
      ],
      "execution_count": null,
      "outputs": [
        {
          "data": {
            "text/plain": [
              "Event\n",
              "Football            503\n",
              "Hockey              486\n",
              "Team Competition    403\n",
              "Basketball          342\n",
              "Water Polo          325\n",
              "Name: Medal, dtype: int64"
            ]
          },
          "execution_count": 35,
          "metadata": {},
          "output_type": "execute_result"
        }
      ]
    },
    {
      "cell_type": "code",
      "metadata": {
        "colab": {
          "base_uri": "https://localhost:8080/",
          "height": 394
        },
        "id": "6wfdHm5q2pFd",
        "outputId": "c27372b7-6ad9-4c47-c942-bfcc56962302"
      },
      "source": [
        "gold_top5.plot(kind='bar',figsize=(10,4))\n",
        "plt.xticks(rotation=75)\n",
        "plt.title('All Time Gold Medals of top 5 countries')"
      ],
      "execution_count": null,
      "outputs": [
        {
          "output_type": "execute_result",
          "data": {
            "text/plain": [
              "Text(0.5, 1.0, 'All Time Medals of top 5 countries')"
            ]
          },
          "metadata": {},
          "execution_count": 41
        },
        {
          "output_type": "display_data",
          "data": {
            "image/png": "[encoded data removed]",
            "text/plain": [
              "<Figure size 720x288 with 1 Axes>"
            ]
          },
          "metadata": {
            "needs_background": "light"
          }
        }
      ]
    },
    {
      "cell_type": "markdown",
      "metadata": {
        "id": "hLwKI02JkQuM"
      },
      "source": [
        "3. Which sport is having most number of medals so far? (Top 5)"
      ]
    },
    {
      "cell_type": "code",
      "metadata": {
        "id": "J1b6SKhTkT8C"
      },
      "source": [
        "medal_sports=summer[(summer.Medal=='Gold') | (summer.Medal=='Silver') | (summer.Medal=='Bronze')].groupby(['Event']).Medal.size()\n",
        "medal_top5=medal_sports.sort_values(ascending=False)[:5]"
      ],
      "execution_count": null,
      "outputs": []
    },
    {
      "cell_type": "code",
      "metadata": {
        "id": "_Wnqclo83lXv",
        "colab": {
          "base_uri": "https://localhost:8080/"
        },
        "outputId": "cbda8372-7a3e-40e8-f24d-34dede1e4590"
      },
      "source": [
        "medal_top5"
      ],
      "execution_count": null,
      "outputs": [
        {
          "output_type": "execute_result",
          "data": {
            "text/plain": [
              "Event\n",
              "Football            1497\n",
              "Hockey              1422\n",
              "Team Competition    1147\n",
              "Basketball          1012\n",
              "Handball             973\n",
              "Name: Medal, dtype: int64"
            ]
          },
          "metadata": {},
          "execution_count": 52
        }
      ]
    },
    {
      "cell_type": "code",
      "metadata": {
        "id": "XOpszDPT7MEr",
        "colab": {
          "base_uri": "https://localhost:8080/",
          "height": 394
        },
        "outputId": "f2033300-a881-4a7d-e091-2323dc8ec8c3"
      },
      "source": [
        "medal_top5.plot(kind='bar',figsize=(10,4))\n",
        "plt.xticks(rotation=75)\n",
        "plt.title('All Time Medals of top 5 countries')"
      ],
      "execution_count": null,
      "outputs": [
        {
          "output_type": "execute_result",
          "data": {
            "text/plain": [
              "Text(0.5, 1.0, 'All Time Medals of top 5 countries')"
            ]
          },
          "metadata": {},
          "execution_count": 53
        },
        {
          "output_type": "display_data",
          "data": {
            "image/png": "[encoded data removed]",
            "text/plain": [
              "<Figure size 720x288 with 1 Axes>"
            ]
          },
          "metadata": {
            "needs_background": "light"
          }
        }
      ]
    },
    {
      "cell_type": "markdown",
      "metadata": {
        "id": "hvA5Awe_kUC6"
      },
      "source": [
        "4. Which player has won most number of medals? (Top 5)"
      ]
    },
    {
      "cell_type": "code",
      "metadata": {
        "id": "X3oyZFiDkW5K"
      },
      "source": [
        "player_sports=summer[(summer.Medal=='Gold') | (summer.Medal=='Silver') | (summer.Medal=='Bronze')].groupby(['Athlete']).Medal.size()\n",
        "player_top5=player_sports.sort_values(ascending=False)[:5]"
      ],
      "execution_count": null,
      "outputs": []
    },
    {
      "cell_type": "code",
      "metadata": {
        "colab": {
          "base_uri": "https://localhost:8080/"
        },
        "id": "lQcrTwGN8JVh",
        "outputId": "adaac262-5093-40c7-a8e8-560de8d81f3b"
      },
      "source": [
        "player_top5"
      ],
      "execution_count": null,
      "outputs": [
        {
          "output_type": "execute_result",
          "data": {
            "text/plain": [
              "Athlete\n",
              "PHELPS, Michael         22\n",
              "LATYNINA, Larisa        18\n",
              "ANDRIANOV, Nikolay      15\n",
              "ONO, Takashi            13\n",
              "MANGIAROTTI, Edoardo    13\n",
              "Name: Medal, dtype: int64"
            ]
          },
          "metadata": {},
          "execution_count": 96
        }
      ]
    },
    {
      "cell_type": "code",
      "metadata": {
        "colab": {
          "base_uri": "https://localhost:8080/",
          "height": 420
        },
        "id": "jn2THSh09Vb3",
        "outputId": "e44cf7dd-1e66-4295-dbc4-ed7ea721f26d"
      },
      "source": [
        "player_top5.plot(kind='bar',figsize=(10,4))\n",
        "plt.xticks(rotation=75)\n",
        "plt.title('All Time Medals of top 5 athletes')"
      ],
      "execution_count": null,
      "outputs": [
        {
          "output_type": "execute_result",
          "data": {
            "text/plain": [
              "Text(0.5, 1.0, 'All Time Medals of top 5 athletes')"
            ]
          },
          "metadata": {},
          "execution_count": 59
        },
        {
          "output_type": "display_data",
          "data": {
            "image/png": "[encoded data removed]",
            "text/plain": [
              "<Figure size 720x288 with 1 Axes>"
            ]
          },
          "metadata": {
            "needs_background": "light"
          }
        }
      ]
    },
    {
      "cell_type": "markdown",
      "metadata": {
        "id": "NXOHV3ivkXAL"
      },
      "source": [
        "5. Which player has won most number Gold Medals of medals? (Top 5)"
      ]
    },
    {
      "cell_type": "code",
      "metadata": {
        "id": "aKcAz_AakZqR"
      },
      "source": [
        "player_sport=summer[(summer.Medal=='Gold')].groupby(['Athlete']).Medal.size()\n",
        "player_top1=player_sport.sort_values(ascending=False)[:5]"
      ],
      "execution_count": null,
      "outputs": []
    },
    {
      "cell_type": "code",
      "metadata": {
        "colab": {
          "base_uri": "https://localhost:8080/"
        },
        "id": "XZhoJX498tnt",
        "outputId": "0c0a5a31-8977-45c1-89fa-48a375f6e9d3"
      },
      "source": [
        "player_top1"
      ],
      "execution_count": null,
      "outputs": [
        {
          "output_type": "execute_result",
          "data": {
            "text/plain": [
              "Athlete\n",
              "PHELPS, Michael     18\n",
              "NURMI, Paavo         9\n",
              "SPITZ, Mark          9\n",
              "LEWIS, Carl          9\n",
              "LATYNINA, Larisa     9\n",
              "Name: Medal, dtype: int64"
            ]
          },
          "metadata": {},
          "execution_count": 62
        }
      ]
    },
    {
      "cell_type": "code",
      "metadata": {
        "colab": {
          "base_uri": "https://localhost:8080/",
          "height": 389
        },
        "id": "OTILciBV9gRm",
        "outputId": "4582edad-d0f9-4bb8-c2fb-b7e51a3c5309"
      },
      "source": [
        "player_top1.plot(kind='bar',figsize=(10,4))\n",
        "plt.xticks(rotation=75)\n",
        "plt.title('All Time Gold Medals of top 5 Athletes')"
      ],
      "execution_count": null,
      "outputs": [
        {
          "output_type": "execute_result",
          "data": {
            "text/plain": [
              "Text(0.5, 1.0, 'All Time Gold Medals of top 5 Athletes')"
            ]
          },
          "metadata": {},
          "execution_count": 63
        },
        {
          "output_type": "display_data",
          "data": {
            "image/png": "[encoded data removed]",
            "text/plain": [
              "<Figure size 720x288 with 1 Axes>"
            ]
          },
          "metadata": {
            "needs_background": "light"
          }
        }
      ]
    },
    {
      "cell_type": "markdown",
      "metadata": {
        "id": "nBg5-pflkZxt"
      },
      "source": [
        "6. In which year India won first Gold Medal in Summer Olympics?"
      ]
    },
    {
      "cell_type": "code",
      "metadata": {
        "id": "uI_DSP7vkcQZ"
      },
      "source": [
        "ind=summer['Country']\n",
        "india=summer['Year']\n",
        "ind=ind.to_numpy()\n",
        "india=india.to_numpy()\n",
        "ind=ind.tolist()\n",
        "india=india.tolist()"
      ],
      "execution_count": null,
      "outputs": []
    },
    {
      "cell_type": "code",
      "metadata": {
        "colab": {
          "base_uri": "https://localhost:8080/"
        },
        "id": "EdsCGDlDCArp",
        "outputId": "3cc12f77-b8cb-4db3-a7ca-b53eb685c7c6"
      },
      "source": [
        "for i in range(0,31165):\n",
        "  if(ind[i]=='IND'):\n",
        "    print(str(india[i]))\n",
        "    break\n",
        "  i+=1"
      ],
      "execution_count": null,
      "outputs": [
        {
          "output_type": "stream",
          "name": "stdout",
          "text": [
            "1900\n"
          ]
        }
      ]
    },
    {
      "cell_type": "markdown",
      "metadata": {
        "id": "4llZl6kBkcXz"
      },
      "source": [
        "7. Which event is most popular in terms on number of players? (Top 5)"
      ]
    },
    {
      "cell_type": "code",
      "metadata": {
        "id": "Gn7BPsWIkfpp"
      },
      "source": [
        "popular_sports=summer[(summer.Gender=='Men') | (summer.Gender=='Women')].groupby(['Event']).Gender.size()\n",
        "popular_top5=popular_sports.sort_values(ascending=False)[:5]"
      ],
      "execution_count": null,
      "outputs": []
    },
    {
      "cell_type": "code",
      "metadata": {
        "colab": {
          "base_uri": "https://localhost:8080/"
        },
        "id": "sqx5_h5M-z2F",
        "outputId": "09004eff-357f-44d2-950f-e3285054d839"
      },
      "source": [
        "popular_top5"
      ],
      "execution_count": null,
      "outputs": [
        {
          "output_type": "execute_result",
          "data": {
            "text/plain": [
              "Event\n",
              "Football            1497\n",
              "Hockey              1422\n",
              "Team Competition    1147\n",
              "Basketball          1012\n",
              "Handball             973\n",
              "Name: Gender, dtype: int64"
            ]
          },
          "metadata": {},
          "execution_count": 70
        }
      ]
    },
    {
      "cell_type": "code",
      "metadata": {
        "colab": {
          "base_uri": "https://localhost:8080/",
          "height": 394
        },
        "id": "5XFxjIkf-7iN",
        "outputId": "c3b67bb1-b3ff-4b2a-8dac-4ba2d462ac38"
      },
      "source": [
        "popular_top5.plot(kind='bar',figsize=(10,4))\n",
        "plt.xticks(rotation=75)\n",
        "plt.title('In terms of number of players top 5 events')"
      ],
      "execution_count": null,
      "outputs": [
        {
          "output_type": "execute_result",
          "data": {
            "text/plain": [
              "Text(0.5, 1.0, 'In terms of number of players top 5 events')"
            ]
          },
          "metadata": {},
          "execution_count": 71
        },
        {
          "output_type": "display_data",
          "data": {
            "image/png": "[encoded data removed]",
            "text/plain": [
              "<Figure size 720x288 with 1 Axes>"
            ]
          },
          "metadata": {
            "needs_background": "light"
          }
        }
      ]
    },
    {
      "cell_type": "markdown",
      "metadata": {
        "id": "NQjawV58kfw5"
      },
      "source": [
        "8. Which sport is having most female Gold Medalists? (Top 5)"
      ]
    },
    {
      "cell_type": "code",
      "metadata": {
        "id": "GSimbkIjkhsJ"
      },
      "source": [
        "women=summer['Gender']\n",
        "women=women.to_numpy()\n",
        "women=women.tolist()\n",
        "for i in range(0,31160):\n",
        "  if(women[i]=='Women'):\n",
        "    women_gold_sports=summer[summer.Medal=='Gold'].groupby(['Sport']).Medal.size()\n",
        "    women_top5=women_gold_sports.sort_values(ascending=False)[:5]\n",
        "  i+=1"
      ],
      "execution_count": 77,
      "outputs": []
    },
    {
      "cell_type": "code",
      "metadata": {
        "colab": {
          "base_uri": "https://localhost:8080/"
        },
        "id": "qEARhMetGe5t",
        "outputId": "4fa7ca99-ba9b-45ce-84f8-c63a269b526b"
      },
      "source": [
        "women_top5"
      ],
      "execution_count": 78,
      "outputs": [
        {
          "output_type": "execute_result",
          "data": {
            "text/plain": [
              "Sport\n",
              "Aquatics      1421\n",
              "Athletics     1215\n",
              "Rowing         890\n",
              "Gymnastics     820\n",
              "Fencing        552\n",
              "Name: Medal, dtype: int64"
            ]
          },
          "metadata": {},
          "execution_count": 78
        }
      ]
    },
    {
      "cell_type": "code",
      "metadata": {
        "id": "sVbR64sMDKOp",
        "colab": {
          "base_uri": "https://localhost:8080/",
          "height": 363
        },
        "outputId": "f8f3b0bd-6b10-422f-e6b4-73c1fcf5f4de"
      },
      "source": [
        "women_top5.plot(kind='bar',figsize=(10,4))\n",
        "plt.xticks(rotation=75)\n",
        "plt.title('Top 5 Sport having involving female athletes')"
      ],
      "execution_count": 80,
      "outputs": [
        {
          "output_type": "execute_result",
          "data": {
            "text/plain": [
              "Text(0.5, 1.0, 'Top 5 Sport having involving female athletes')"
            ]
          },
          "metadata": {},
          "execution_count": 80
        },
        {
          "output_type": "display_data",
          "data": {
            "image/png": "[encoded data removed]",
            "text/plain": [
              "<Figure size 720x288 with 1 Axes>"
            ]
          },
          "metadata": {
            "needs_background": "light"
          }
        }
      ]
    }
  ]
}